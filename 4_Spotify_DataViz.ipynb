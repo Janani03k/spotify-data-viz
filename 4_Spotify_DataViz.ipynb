{
  "nbformat": 4,
  "nbformat_minor": 0,
  "metadata": {
    "colab": {
      "provenance": []
    },
    "kernelspec": {
      "name": "python3",
      "display_name": "Python 3"
    },
    "language_info": {
      "name": "python"
    }
  },
  "cells": [
    {
      "cell_type": "markdown",
      "source": [
        "\n",
        "![Spotify Image](https://www.dropbox.com/scl/fi/at45glkz3f6wp4ez6cbm4/Spotify.png?rlkey=2jjig1dv331tsoex8h0wa3jnc&dl=1)\n",
        "\n"
      ],
      "metadata": {
        "id": "vmjeqf3tx5O-"
      }
    },
    {
      "cell_type": "markdown",
      "source": [
        "# 🎵 **Assignment: Spotify Data Analysis and Visualization **\n",
        "\n",
        "This assignment aims to help students enhance their skills in using Python for **data visualization** and **storytelling**. By analyzing Spotify data, students will gain hands-on experience in creating meaningful insights using visual tools.\n",
        "\n",
        "---\n",
        "## **Steps to Complete the Assignment**\n",
        "1️⃣ **Install required libraries**: Ensure all necessary tools like Plotly and Seaborn are set up.  \n",
        "2️⃣ **Explore the Spotify dataset**: Load, inspect, and clean the data.  \n",
        "3️⃣ **Create visualizations**: Use different libraries to analyze and visualize key metrics (e.g., song popularity, genres).  \n",
        "4️⃣ **Present findings**: Create a narrative around the visualizations to explain insights effectively.\n",
        "\n",
        "---\n",
        "\n",
        "Are you ready to get started? 🎉 Let’s dive into the first step!\n"
      ],
      "metadata": {
        "id": "8OHFE6vYyJ7L"
      }
    },
    {
      "cell_type": "markdown",
      "source": [
        " ## Setting Up Visualization Libraries"
      ],
      "metadata": {
        "id": "w5V2mSrj05nT"
      }
    },
    {
      "cell_type": "code",
      "execution_count": null,
      "metadata": {
        "id": "rqm-nhGxsNzY",
        "colab": {
          "base_uri": "https://localhost:8080/"
        },
        "outputId": "0b7f0113-f65f-46bc-f89f-7f2d7dfa042c"
      },
      "outputs": [
        {
          "output_type": "stream",
          "name": "stdout",
          "text": [
            "✅ Libraries successfully installed and imported!\n"
          ]
        }
      ],
      "source": [
        "# Install missing libraries (if not already installed)\n",
        "!pip install plotly seaborn --quiet\n",
        "\n",
        "# Importing required libraries\n",
        "import matplotlib.pyplot as plt  # Core plotting library\n",
        "import seaborn as sns  # Statistical visualizations\n",
        "import plotly.express as px  # Interactive plots\n",
        "\n",
        "# Ensure plots are displayed properly in Colab\n",
        "%matplotlib inline\n",
        "\n",
        "print(\"✅ Libraries successfully installed and imported!\")"
      ]
    },
    {
      "cell_type": "markdown",
      "source": [
        "# Exploring Global Music Trends with Spotify Data\n",
        "## About the Dataset\n",
        "This dataset provides daily updates on the top 50 songs across 73 countries, offering insights into global music preferences. It includes details such as song title, artist, position, streams, date, and region, enabling analysis of trends and patterns in music consumption worldwide.\n",
        "\n",
        "📂 **Dataset Source:** [Kaggle - Top Spotify Songs in 73 Countries](https://www.kaggle.com/datasets/asaniczka/top-spotify-songs-in-73-countries-daily-updated)\n",
        "\n",
        "🚀 Using Kaggle for Data Analysis\n",
        "Kaggle provides a collaborative environment for working with datasets, running notebooks, and building machine learning models. You can explore the dataset, perform analyses, and share your findings with the community.\n",
        "\n",
        "Now, let's import the dataset and start exploring!"
      ],
      "metadata": {
        "id": "24KQanU41bo0"
      }
    },
    {
      "cell_type": "markdown",
      "source": [
        "Complete all the tasks mentioned in each cell\n"
      ],
      "metadata": {
        "id": "E31oFkqr4HYx"
      }
    },
    {
      "cell_type": "code",
      "source": [
        "# Import necessary libraries\n",
        "import pandas as pd\n",
        "\n",
        "# Load dataset from Kaggle link\n",
        "dataset_url = \"https://www.kaggle.com/datasets/asaniczka/top-spotify-songs-in-73-countries-daily-updated\"\n"
      ],
      "metadata": {
        "id": "BLXR1ost1X5z"
      },
      "execution_count": null,
      "outputs": []
    },
    {
      "cell_type": "markdown",
      "source": [
        "# 🗂️ **Task 1️⃣: Loading the Dataset**\n",
        "\n",
        "### **What You’ll Do**\n",
        "1. **Read the CSV file**: Load the Spotify dataset into a Pandas DataFrame for analysis.  \n",
        "2. **Inspect the data**: Use basic functions to understand the structure and key attributes of the dataset.  \n",
        "3. **Preview the data**: Display the first few rows to ensure it’s loaded correctly.\n",
        "\n",
        "---\n",
        "\n",
        "### **Steps to Complete**\n",
        "a. Load the CSV file into a Pandas DataFrame using the `read_csv()` method.  \n",
        "b. Display basic information about the dataset (e.g., column names, data types, non-null counts).  \n",
        "c. Preview the first few rows of the dataset using `.head()`.\n"
      ],
      "metadata": {
        "id": "egEh3zOa45v4"
      }
    },
    {
      "cell_type": "code",
      "source": [
        "# ==== Task 1: Loading the Dataset ====\n",
        "# 🚀 Goal: Load and inspect the Spotify dataset for analysis.\n",
        "\n",
        "# 1️⃣ Load the CSV File\n",
        "# Use pd.read_csv() to load the dataset into a Pandas DataFrame.\n",
        "# -------- Your code starts here --------\n",
        "\n",
        "\n",
        "# -------- Your code ends here --------\n",
        "\n",
        "# 2️⃣ Display Basic Information\n",
        "# Use .info() to check column names, data types, and non-null counts.\n",
        "# -------- Your code starts here --------\n",
        "\n",
        "\n",
        "# -------- Your code ends here --------\n",
        "\n",
        "# 3️⃣ Preview the First Few Rows\n",
        "# Use .head() to display a sample of the dataset and verify it loaded correctly.\n",
        "# -------- Your code starts here --------\n",
        "\n",
        "\n",
        "# -------- Your code ends here --------\n"
      ],
      "metadata": {
        "id": "J3F5ISA9vHMw"
      },
      "execution_count": null,
      "outputs": []
    },
    {
      "cell_type": "markdown",
      "source": [
        "# 🧹 **Task 2️⃣: Handle Missing Values in the Spotify Dataset**\n",
        "\n",
        "### **Objective**\n",
        "Calculate the percentage of missing values for each column in the Spotify dataset to identify areas that need data cleaning.\n",
        "\n",
        "---\n",
        "\n",
        "### **What You’ll Do**\n",
        "1. **Calculate Missing Values**:\n",
        "   - Use the `isnull()` method combined with `sum()` to count missing values in each column.\n",
        "   - Calculate the percentage of missing values by dividing the count of missing values by the total number of rows and multiplying by 100.\n",
        "\n",
        "2. **Display the Results**:\n",
        "   - Print out the percentage of missing data for each column in a clear and concise format.\n",
        "   "
      ],
      "metadata": {
        "id": "0ZBZodHt4sG-"
      }
    },
    {
      "cell_type": "code",
      "source": [
        "# ==== Task 2: Handling Missing Values ====\n",
        "# 🚀 Goal: Identify and analyze missing values in the dataset.\n",
        "\n",
        "# 1️⃣ Count Missing Values\n",
        "# Use isnull().sum() to count missing values in each column.\n",
        "# -------- Your code starts here --------\n",
        "\n",
        "\n",
        "# -------- Your code ends here --------\n",
        "\n",
        "# 2️⃣ Calculate Percentage of Missing Values\n",
        "# Compute the percentage of missing values for each column.\n",
        "# -------- Your code starts here --------\n",
        "\n",
        "\n",
        "# -------- Your code ends here --------\n",
        "\n",
        "# 3️⃣ Display Missing Data Summary\n",
        "# Print the percentage of missing values in a clear format for analysis.\n",
        "# -------- Your code starts here --------\n",
        "\n",
        "\n",
        "# -------- Your code ends here --------\n"
      ],
      "metadata": {
        "id": "nB5MaBzzvSqN"
      },
      "execution_count": null,
      "outputs": []
    },
    {
      "cell_type": "markdown",
      "source": [
        "# 📊 **Task 3️⃣: Correlation Analysis & Heatmap**\n",
        "\n",
        "### **What You’ll Do**\n",
        "1. **Compute the correlation matrix**: Analyze relationships between numerical variables in the dataset.  \n",
        "2. **Visualize correlations with a heatmap**: Use Seaborn to create an intuitive heatmap representation.  \n",
        "3. **Identify key correlations**: Determine the strongest, most positive, and most negative correlations.  \n",
        "4. **Infer insights**: Interpret the results and how they impact music trends.\n",
        "\n",
        "---\n",
        "\n",
        "### **Steps to Complete**\n",
        "a. **Select numerical columns** from the dataset for correlation analysis.  \n",
        "b. **Compute the correlation matrix** using `.corr()` method in Pandas.  \n",
        "c. **Generate a heatmap** using `seaborn.heatmap()` to visualize the relationships.  \n",
        "d. **Identify the strongest correlations** and analyze positive & negative correlations.  \n",
        "e. **Interpret key findings** and document observations based on trends.\n",
        "\n",
        "---\n"
      ],
      "metadata": {
        "id": "E13fZMHq6NI_"
      }
    },
    {
      "cell_type": "code",
      "source": [
        "# ==== Task 3: Correlation Analysis & Heatmap ====\n",
        "# 🚀 Goal: Analyze relationships between numerical variables using a heatmap.\n",
        "\n",
        "# 1️⃣ Select Numerical Columns\n",
        "# Extract only the numerical columns from the dataset for correlation analysis.\n",
        "# -------- Your code starts here --------\n",
        "\n",
        "\n",
        "# -------- Your code ends here --------\n",
        "\n",
        "# 2️⃣ Compute the Correlation Matrix\n",
        "# Use .corr() to calculate correlations between numerical features.\n",
        "# -------- Your code starts here --------\n",
        "\n",
        "\n",
        "# -------- Your code ends here --------\n",
        "\n",
        "# 3️⃣ Generate Heatmap\n",
        "# Use seaborn.heatmap() to visualize correlations between variables.\n",
        "# -------- Your code starts here --------\n",
        "\n",
        "\n",
        "# -------- Your code ends here --------\n",
        "\n",
        "# 4️⃣ Identify Key Correlations\n",
        "# Analyze the strongest, most positive, and most negative correlations.\n",
        "# -------- Your code starts here --------\n",
        "\n",
        "\n",
        "# -------- Your code ends here --------\n",
        "\n",
        "# 5️⃣ Interpret Insights\n",
        "# Document key findings based on trends observed in the heatmap.\n",
        "# -------- Your code starts here --------\n",
        "\n",
        "\n",
        "# -------- Your code ends here --------\n"
      ],
      "metadata": {
        "id": "t0tHvGCg3pg0"
      },
      "execution_count": null,
      "outputs": []
    },
    {
      "cell_type": "markdown",
      "source": [
        "# 🌍 **Task 4️⃣: Geospatial Visualization - Choropleth Map of Spotify Streams**\n",
        "\n",
        "### **Objective**  \n",
        "Create a **choropleth map** to visualize the distribution of Spotify streams across different countries, helping identify regional streaming trends.\n",
        "\n",
        "---\n",
        "\n",
        "### **What You’ll Do**  \n",
        "1. **Understand Geospatial Data & Visualization**:  \n",
        "   - Geospatial data represents information tied to locations on Earth.  \n",
        "   - Choropleth maps use color shading to represent numerical values across geographic regions.  \n",
        "   - 📺 Watch this [video](https://www.youtube.com/watch?v=ZS7v_8HhmG8) to learn more.\n",
        "\n",
        "2. **Prepare the Data**:  \n",
        "   - Extract **country-wise** streaming data from the dataset.  \n",
        "   - Ensure country names match standardized geographic codes for mapping.\n",
        "\n",
        "3. **Generate the Choropleth Map**:  \n",
        "   - Use `plotly.express.choropleth()` to create an interactive visualization.  \n",
        "   - Customize the map with labels, colors, and tooltips for clarity.\n",
        "\n",
        "4. **Analyze Insights**:  \n",
        "   - Identify countries with **highest and lowest** Spotify streams.  \n",
        "   - Observe **regional streaming trends** and discuss possible reasons behind them.\n"
      ],
      "metadata": {
        "id": "VAuFYi7UNaLb"
      }
    },
    {
      "cell_type": "code",
      "source": [
        "# ==== Task 4: Geospatial Visualization - Choropleth Map ====\n",
        "# 🚀 Goal: Create a choropleth map to visualize the distribution of Spotify streams across countries.\n",
        "\n",
        "# 1️⃣ Prepare the Data\n",
        "# Extract country-wise streaming data and ensure country names are standardized.\n",
        "# -------- Your code starts here --------\n",
        "\n",
        "\n",
        "# -------- Your code ends here --------\n",
        "\n",
        "# 2️⃣ Create the Choropleth Map\n",
        "# Use plotly.express.choropleth() to visualize the data on a world map.\n",
        "# -------- Your code starts here --------\n",
        "\n",
        "\n",
        "# -------- Your code ends here --------\n",
        "\n",
        "# 3️⃣ Customize and Display the Map\n",
        "# Add labels, colors, and tooltips for better readability.\n",
        "# -------- Your code starts here --------\n",
        "\n",
        "\n",
        "# -------- Your code ends here --------\n",
        "\n",
        "# 4️⃣ Analyze Insights\n",
        "# Identify top and bottom streaming countries and document key observations.\n",
        "# -------- Your code starts here --------\n",
        "\n",
        "\n",
        "# -------- Your code ends here --------\n"
      ],
      "metadata": {
        "id": "HOxQsIcy6CYj"
      },
      "execution_count": null,
      "outputs": []
    }
  ]
}